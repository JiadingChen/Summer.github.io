{
 "cells": [
  {
   "cell_type": "code",
   "execution_count": 1,
   "metadata": {},
   "outputs": [
    {
     "name": "stdout",
     "output_type": "stream",
     "text": [
      "login success!\n",
      "login respond error_code:0\n",
      "login respond  error_msg:success\n",
      "query_history_k_data_plus respond error_code:0\n",
      "query_history_k_data_plus respond  error_msg:success\n",
      "            date       code       open       high        low      close  \\\n",
      "0     2015-01-05  sh.000906  3868.7150  3968.6110  3852.9130  3944.3640   \n",
      "1     2015-01-06  sh.000906  3912.4580  3981.3810  3889.7170  3955.2100   \n",
      "2     2015-01-07  sh.000906  3937.2320  3980.7820  3916.3720  3958.9370   \n",
      "3     2015-01-08  sh.000906  3963.0330  3971.9100  3871.7960  3881.9150   \n",
      "4     2015-01-09  sh.000906  3868.8740  3998.1710  3860.5460  3865.4240   \n",
      "...          ...        ...        ...        ...        ...        ...   \n",
      "1272  2020-03-25  sh.000906  3958.9814  3981.1754  3931.1889  3970.9870   \n",
      "1273  2020-03-26  sh.000906  3940.0375  3982.3121  3926.7324  3941.6028   \n",
      "1274  2020-03-27  sh.000906  3991.0504  4000.9350  3945.1989  3945.6266   \n",
      "1275  2020-03-30  sh.000906  3891.4622  3918.0676  3856.5588  3895.8153   \n",
      "1276  2020-03-31  sh.000906  3931.7968  3941.3010  3898.2094  3908.1020   \n",
      "\n",
      "       preclose       volume             amount adjustflag      turn  \\\n",
      "0     3839.3850  57998570240  659192848384.0000          3  0.022410   \n",
      "1     3944.3640  54471668224  638857687040.0000          3  0.021047   \n",
      "2     3955.2100  41624172544  510518800384.0000          3  0.016083   \n",
      "3     3958.9370  39063766272  464352948224.0000          3  0.015094   \n",
      "4     3881.9150  44062348032  535600844800.0000          3  0.017021   \n",
      "...         ...          ...                ...        ...       ...   \n",
      "1272  3869.9996  30037702800  373871599394.4000          3  0.819951   \n",
      "1273  3970.9870  23796311600  296318319856.8000          3  0.649541   \n",
      "1274  3941.6028  24110606800  304584217434.3000          3  0.657726   \n",
      "1275  3945.6266  25085798900  305199962781.6000          3  0.684305   \n",
      "1276  3895.8153  22305863600  268133956166.9000          3  0.607623   \n",
      "\n",
      "     tradestatus     pctChg isST  \n",
      "0              1   2.734266       \n",
      "1              1   0.274973       \n",
      "2              1   0.094231       \n",
      "3              1  -1.945521       \n",
      "4              1  -0.424815       \n",
      "...          ...        ...  ...  \n",
      "1272           1   2.609494    0  \n",
      "1273           1  -0.739972    0  \n",
      "1274           1   0.102085    0  \n",
      "1275           1  -1.262443    0  \n",
      "1276           1   0.315382    0  \n",
      "\n",
      "[1277 rows x 14 columns]\n"
     ]
    }
   ],
   "source": [
    "import baostock as bs\n",
    "import pandas as pd\n",
    "\n",
    "#### 登陆系统 ####\n",
    "lg = bs.login()\n",
    "# 显示登陆返回信息\n",
    "print('login respond error_code:'+lg.error_code)\n",
    "print('login respond  error_msg:'+lg.error_msg)\n",
    "\n",
    "#### 获取沪深A股历史K线数据 ####\n",
    "# 详细指标参数，参见“历史行情指标参数”章节；“分钟线”参数与“日线”参数不同。\n",
    "# 分钟线指标：date,time,code,open,high,low,close,volume,amount,adjustflag\n",
    "rs = bs.query_history_k_data_plus(\"sh.000906\",\n",
    "    \"date,code,open,high,low,close,preclose,volume,amount,adjustflag,turn,tradestatus,pctChg,isST\",\n",
    "    start_date='2015-01-01', end_date='2020-3-31',\n",
    "    frequency=\"d\", adjustflag=\"3\")\n",
    "print('query_history_k_data_plus respond error_code:'+rs.error_code)\n",
    "print('query_history_k_data_plus respond  error_msg:'+rs.error_msg)\n",
    "\n",
    "#### 打印结果集 ####\n",
    "data_list = []\n",
    "while (rs.error_code == '0') & rs.next():\n",
    "    # 获取一条记录，将记录合并在一起\n",
    "    data_list.append(rs.get_row_data())\n",
    "result = pd.DataFrame(data_list, columns=rs.fields)\n",
    "\n",
    "#### 结果集输出到csv文件 ####   \n",
    "result.to_csv(\"D:\\\\history_A_stock_k_data.csv\", index=False)\n",
    "print(result)"
   ]
  },
  {
   "cell_type": "code",
   "execution_count": null,
   "metadata": {},
   "outputs": [],
   "source": []
  }
 ],
 "metadata": {
  "kernelspec": {
   "display_name": "Python 3",
   "language": "python",
   "name": "python3"
  },
  "language_info": {
   "codemirror_mode": {
    "name": "ipython",
    "version": 3
   },
   "file_extension": ".py",
   "mimetype": "text/x-python",
   "name": "python",
   "nbconvert_exporter": "python",
   "pygments_lexer": "ipython3",
   "version": "3.7.4"
  }
 },
 "nbformat": 4,
 "nbformat_minor": 2
}
